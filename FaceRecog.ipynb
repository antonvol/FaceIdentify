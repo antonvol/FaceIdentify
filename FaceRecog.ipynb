{
 "cells": [
  {
   "cell_type": "code",
   "execution_count": 1,
   "metadata": {},
   "outputs": [],
   "source": [
    "import dlib\n",
    "from skimage import io\n",
    "from scipy.spatial import distance"
   ]
  },
  {
   "cell_type": "code",
   "execution_count": 70,
   "metadata": {},
   "outputs": [
    {
     "data": {
      "text/plain": [
       "'\\nWEBHOOK_HOST = \\'31.148.219.173\\'\\nWEBHOOK_PORT = 443  # 443, 80, 88 или 8443\\nWEBHOOK_LISTEN = \\'0.0.0.0\\'  # На некоторых серверах придется указывать такой же IP, что и порт\\n\\nWEBHOOK_SSL_CERT = \\'/home/NewCreativeRobot/webhook_cert.pem\\'  # Путь к сертификату\\nWEBHOOK_SSL_PRIV = \\'/home/NewCreativeRobot/webhook_pkey.pem\\'  # Путь к приватному ключу\\n\\nWEBHOOK_URL_BASE = \"https://%s:%s\" % (WEBHOOK_HOST, WEBHOOK_PORT)\\nWEBHOOK_URL_PATH = \"/%s/\" % (BOT_TOKEN)\\n\\n\\nclass WebhookServer(object):\\n    @cherrypy.expose\\n    def index(self):\\n        if \\'content-length\\' in cherrypy.request.headers and                         \\'content-type\\' in cherrypy.request.headers and                         cherrypy.request.headers[\\'content-type\\'] == \\'application/json\\':\\n            length = int(cherrypy.request.headers[\\'content-length\\'])\\n            json_string = cherrypy.request.body.read(length).decode(\"utf-8\")\\n            update = telebot.types.Update.de_json(json_string)\\n            # Эта функция обеспечивает проверку входящего сообщения\\n            bot.process_new_updates([update])\\n            return \\'\\'\\n        else:\\n            raise cherrypy.HTTPError(403)\\n\\n'"
      ]
     },
     "execution_count": 70,
     "metadata": {},
     "output_type": "execute_result"
    }
   ],
   "source": [
    "#Серверная часть(на локалке пропустить этот блок)\n",
    "'''\n",
    "WEBHOOK_HOST = '31.148.219.173'\n",
    "WEBHOOK_PORT = 443  # 443, 80, 88 или 8443\n",
    "WEBHOOK_LISTEN = '0.0.0.0'  # На некоторых серверах придется указывать такой же IP, что и порт\n",
    "\n",
    "WEBHOOK_SSL_CERT = '/home/NewCreativeRobot/webhook_cert.pem'  # Путь к сертификату\n",
    "WEBHOOK_SSL_PRIV = '/home/NewCreativeRobot/webhook_pkey.pem'  # Путь к приватному ключу\n",
    "\n",
    "WEBHOOK_URL_BASE = \"https://%s:%s\" % (WEBHOOK_HOST, WEBHOOK_PORT)\n",
    "WEBHOOK_URL_PATH = \"/%s/\" % (BOT_TOKEN)\n",
    "\n",
    "\n",
    "class WebhookServer(object):\n",
    "    @cherrypy.expose\n",
    "    def index(self):\n",
    "        if 'content-length' in cherrypy.request.headers and \\\n",
    "                        'content-type' in cherrypy.request.headers and \\\n",
    "                        cherrypy.request.headers['content-type'] == 'application/json':\n",
    "            length = int(cherrypy.request.headers['content-length'])\n",
    "            json_string = cherrypy.request.body.read(length).decode(\"utf-8\")\n",
    "            update = telebot.types.Update.de_json(json_string)\n",
    "            # Эта функция обеспечивает проверку входящего сообщения\n",
    "            bot.process_new_updates([update])\n",
    "            return ''\n",
    "        else:\n",
    "            raise cherrypy.HTTPError(403)\n",
    "\n",
    "'''"
   ]
  },
  {
   "cell_type": "code",
   "execution_count": 71,
   "metadata": {},
   "outputs": [],
   "source": [
    "#Создаем модели для поиска и нахождения лиц в dlib\n",
    "sp = dlib.shape_predictor('shape_predictor_68_face_landmarks.dat')\n",
    "facerec = dlib.face_recognition_model_v1('dlib_face_recognition_resnet_model_v1.dat')\n",
    "detector = dlib.get_frontal_face_detector()"
   ]
  },
  {
   "cell_type": "code",
   "execution_count": 72,
   "metadata": {},
   "outputs": [
    {
     "name": "stdout",
     "output_type": "stream",
     "text": [
      "Radick.jpg\n"
     ]
    }
   ],
   "source": [
    "#Загружаем первую фотографию(которая оригинал, первое лицо)\n",
    "file = 'Radick.jpg'\n",
    "img = io.imread(file)\n",
    "print(file)"
   ]
  },
  {
   "cell_type": "code",
   "execution_count": 73,
   "metadata": {},
   "outputs": [],
   "source": [
    "#Показываем фотографию(возможно свёрнута)\n",
    "win1 = dlib.image_window()\n",
    "win1.clear_overlay()\n",
    "win1.set_image(img)"
   ]
  },
  {
   "cell_type": "code",
   "execution_count": 74,
   "metadata": {},
   "outputs": [],
   "source": [
    "#детектим ебло на фотке\n",
    "dets = detector(img, 1)"
   ]
  },
  {
   "cell_type": "code",
   "execution_count": 75,
   "metadata": {},
   "outputs": [
    {
     "name": "stdout",
     "output_type": "stream",
     "text": [
      "Detection 0: Left: 418 Top: 295 Right: 972 Bottom: 850\n"
     ]
    }
   ],
   "source": [
    "#составляем форму по координатам\n",
    "for k, d in enumerate(dets):\n",
    "    print(\"Detection {}: Left: {} Top: {} Right: {} Bottom: {}\".format(\n",
    "        k, d.left(), d.top(), d.right(), d.bottom()))\n",
    "    shape = sp(img, d)\n",
    "    win1.clear_overlay()\n",
    "    win1.add_overlay(d)\n",
    "    win1.add_overlay(shape)"
   ]
  },
  {
   "cell_type": "code",
   "execution_count": 76,
   "metadata": {},
   "outputs": [],
   "source": [
    "#Извлекаем дескриптор из лица\n",
    "face_descriptor1 = facerec.compute_face_descriptor(img, shape)"
   ]
  },
  {
   "cell_type": "code",
   "execution_count": 77,
   "metadata": {},
   "outputs": [
    {
     "name": "stdout",
     "output_type": "stream",
     "text": [
      "-0.123311\n",
      "0.109957\n",
      "0.0331029\n",
      "-0.0487644\n",
      "-0.0323455\n",
      "0.0464803\n",
      "-0.0239296\n",
      "-0.113041\n",
      "0.193146\n",
      "-0.143731\n",
      "0.196897\n",
      "-0.0557374\n",
      "-0.261759\n",
      "-0.0355314\n",
      "-0.00680912\n",
      "0.0927798\n",
      "-0.158604\n",
      "-0.143087\n",
      "-0.0850396\n",
      "-0.0822275\n",
      "0.130159\n",
      "0.0303784\n",
      "-0.0891918\n",
      "0.0160573\n",
      "-0.156457\n",
      "-0.310847\n",
      "-0.101773\n",
      "-0.141285\n",
      "0.00273763\n",
      "-0.0301305\n",
      "0.0515292\n",
      "0.00439268\n",
      "-0.123562\n",
      "-0.0155784\n",
      "-0.0089689\n",
      "0.0613685\n",
      "-0.0558213\n",
      "-0.054885\n",
      "0.232635\n",
      "-0.0593951\n",
      "-0.172579\n",
      "-0.103123\n",
      "0.0288192\n",
      "0.241269\n",
      "0.0164392\n",
      "0.0155168\n",
      "0.0112783\n",
      "-0.0312077\n",
      "0.15197\n",
      "-0.270264\n",
      "0.0987882\n",
      "0.203963\n",
      "0.218516\n",
      "0.0790071\n",
      "0.159035\n",
      "-0.174404\n",
      "0.0230357\n",
      "0.150082\n",
      "-0.215116\n",
      "0.116572\n",
      "0.060295\n",
      "-0.0983951\n",
      "-0.0360778\n",
      "-0.105736\n",
      "0.202426\n",
      "0.12485\n",
      "-0.149243\n",
      "-0.0861306\n",
      "0.191758\n",
      "-0.0718723\n",
      "-0.0335521\n",
      "0.0538252\n",
      "-0.117105\n",
      "-0.254643\n",
      "-0.275926\n",
      "0.047912\n",
      "0.404334\n",
      "0.15278\n",
      "-0.185848\n",
      "-0.0155468\n",
      "-0.0653433\n",
      "-0.0478967\n",
      "0.070418\n",
      "0.0550229\n",
      "-0.0947999\n",
      "0.00936588\n",
      "-0.0724916\n",
      "0.0568079\n",
      "0.164856\n",
      "-0.0420244\n",
      "-0.0257654\n",
      "0.221762\n",
      "-0.0345803\n",
      "0.00922512\n",
      "-0.0357807\n",
      "0.0204919\n",
      "-0.092631\n",
      "-0.0239639\n",
      "-0.0562379\n",
      "0.0637947\n",
      "0.0960548\n",
      "-0.0969196\n",
      "-0.0190868\n",
      "0.0975313\n",
      "-0.157282\n",
      "0.137547\n",
      "0.0059819\n",
      "-0.00858761\n",
      "-0.03491\n",
      "-0.01299\n",
      "-0.186896\n",
      "-0.0151036\n",
      "0.222728\n",
      "-0.235546\n",
      "0.139543\n",
      "0.11287\n",
      "-0.0311367\n",
      "0.168331\n",
      "0.0695065\n",
      "0.0625336\n",
      "0.0114195\n",
      "-0.0971758\n",
      "-0.281017\n",
      "-0.105582\n",
      "0.104087\n",
      "-0.0158382\n",
      "-0.0210919\n",
      "0.0305459\n"
     ]
    }
   ],
   "source": [
    "#выводим координаты точек дескриптора\n",
    "print(face_descriptor1)"
   ]
  },
  {
   "cell_type": "code",
   "execution_count": 82,
   "metadata": {
    "scrolled": true
   },
   "outputs": [
    {
     "name": "stdout",
     "output_type": "stream",
     "text": [
      "Detection 0: Left: 634 Top: 222 Right: 820 Bottom: 407\n",
      "0.6272984542239077\n",
      "its not a Radick\n"
     ]
    }
   ],
   "source": [
    "#Загружаем и обрабатываем вторую фотографию\n",
    "img = io.imread('C:\\\\Users\\\\Admin\\\\FRS\\\\Radick\\\\f7.jpg')\n",
    "win2 = dlib.image_window()\n",
    "win2.clear_overlay()\n",
    "win2.set_image(img)\n",
    "dets_webcam = detector(img, 1)\n",
    "for k, d in enumerate(dets_webcam):\n",
    "    print(\"Detection {}: Left: {} Top: {} Right: {} Bottom: {}\".format(\n",
    "        k, d.left(), d.top(), d.right(), d.bottom()))\n",
    "    shape = sp(img, d)\n",
    "    win2.clear_overlay()\n",
    "    win2.add_overlay(d)\n",
    "    win2.add_overlay(shape)\n",
    "\n",
    "#Дескриптор второй фотографии\n",
    "face_descriptor2 = facerec.compute_face_descriptor(img, shape)\n",
    "\n",
    "#Рассчитываем Евклидово расстояние между двумя дексрипторами лиц\n",
    "#ер ( d(p,q)=\\sqrt{(p_1-q_1)^2+(p_2-q_2)^2+\\dots+(p_n-q_n)^2} = \\sqrt{\\sum_{k=1}^n (p_k-q_k)^2} )\n",
    "edistance = distance.euclidean(face_descriptor1, face_descriptor2)\n",
    "name = file.split(\".\")[0] \n",
    "print(edistance)\n",
    "#выводим ответ\n",
    "if edistance < 0.6:\n",
    "    print('its a ' + name)\n",
    "else:\n",
    "    print('its not a ' + name)"
   ]
  },
  {
   "cell_type": "code",
   "execution_count": null,
   "metadata": {},
   "outputs": [],
   "source": []
  }
 ],
 "metadata": {
  "kernelspec": {
   "display_name": "Python 3",
   "language": "python",
   "name": "python3"
  },
  "language_info": {
   "codemirror_mode": {
    "name": "ipython",
    "version": 3
   },
   "file_extension": ".py",
   "mimetype": "text/x-python",
   "name": "python",
   "nbconvert_exporter": "python",
   "pygments_lexer": "ipython3",
   "version": "3.6.5"
  }
 },
 "nbformat": 4,
 "nbformat_minor": 2
}
